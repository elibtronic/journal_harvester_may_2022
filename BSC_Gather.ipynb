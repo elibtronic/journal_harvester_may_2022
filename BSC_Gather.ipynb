{
 "cells": [
  {
   "cell_type": "markdown",
   "metadata": {},
   "source": [
    "\n",
    "# BSC Gather\n",
    "\n",
    "Back to basics. Will grab all of the things labelled AN in the HTML files in this direction. Will then harvest directly form BSC, a la\n",
    "\n",
    "`https://search.ebscohost.com/login.aspx?direct=true&db=bth&AN=134577971&site=ehost-live&scope=site`"
   ]
  },
  {
   "cell_type": "code",
   "execution_count": 55,
   "metadata": {},
   "outputs": [
    {
     "name": "stdout",
     "output_type": "stream",
     "text": [
      "Done Loading Libraries\n"
     ]
    }
   ],
   "source": [
    "#Libraries Etc\n",
    "\n",
    "import glob\n",
    "import re\n",
    "import requests\n",
    "\n",
    "print(\"Done Loading Libraries\")\n",
    "\n",
    "#What directory to put the HTML files\n",
    "HTML_DATA = \"html_found/\""
   ]
  },
  {
   "cell_type": "code",
   "execution_count": 56,
   "metadata": {},
   "outputs": [
    {
     "name": "stdout",
     "output_type": "stream",
     "text": [
      "Total ANS found:  1611\n"
     ]
    }
   ],
   "source": [
    "#List HTML Files and grep out AN numbers\n",
    "\n",
    "ans = []\n",
    "\n",
    "for file in glob.glob(\"*.html\"):\n",
    "    fdump = open(file,'r').read()\n",
    "    #print(fdump)\n",
    "    res = re.findall('AN: \\d*',fdump)\n",
    "    for r in res:\n",
    "        ans.append(r.split(\" \")[1])\n",
    "\n",
    "#Text file of ANs just in case\n",
    "print(\"Total ANS found: \",len(ans))\n",
    "an_file = open(\"ANs.txt\", \"w\")\n",
    "for a in ans:\n",
    "    an_file.write(a+\"\\n\")"
   ]
  },
  {
   "cell_type": "code",
   "execution_count": 54,
   "metadata": {},
   "outputs": [
    {
     "name": "stdout",
     "output_type": "stream",
     "text": [
      "50\n",
      "100\n",
      "150\n",
      "200\n",
      "250\n"
     ]
    }
   ],
   "source": [
    "#Download HTML of those ANs\n",
    "\n",
    "counter = 0\n",
    "\n",
    "print(\"Download Progress...\")\n",
    "for a in ans:\n",
    "    counter += 1\n",
    "    URL_TO_FETCH = \"https://search.ebscohost.com/login.aspx?direct=true&db=bth&AN=\"+a+\"&site=ehost-live&scope=site\"\n",
    "    #print(URL_TO_FETCH)\n",
    "    html = requests.get(URL_TO_FETCH).text\n",
    "    if not glob.glob(HTML_DATA+a+\".html\"): #Only download if we didn't already\n",
    "        html_grabbed = open(HTML_DATA+a+\".html\",\"w\")\n",
    "        html_grabbed.write(html)\n",
    "    if counter % 50 == 0:\n",
    "        print(counter)\n",
    "    "
   ]
  }
 ],
 "metadata": {
  "kernelspec": {
   "display_name": "Python 3",
   "language": "python",
   "name": "python3"
  },
  "language_info": {
   "codemirror_mode": {
    "name": "ipython",
    "version": 3
   },
   "file_extension": ".py",
   "mimetype": "text/x-python",
   "name": "python",
   "nbconvert_exporter": "python",
   "pygments_lexer": "ipython3",
   "version": "3.7.4"
  }
 },
 "nbformat": 4,
 "nbformat_minor": 2
}
