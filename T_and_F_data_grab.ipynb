{
 "cells": [
  {
   "cell_type": "markdown",
   "metadata": {},
   "source": [
    "\n",
    "# T and F Datagrab\n",
    "\n",
    "T and F gives us some different results. Strategy:\n",
    "- Go through DOIs found from CrossRef\n",
    "- Grab HTML full-text from constructed URL\n",
    "\n",
    "EG.\n",
    "\n",
    "`https://www.tandfonline.com/doi/full/10.1016/j.smr.2014.09.003`"
   ]
  },
  {
   "cell_type": "code",
   "execution_count": 11,
   "metadata": {},
   "outputs": [
    {
     "name": "stdout",
     "output_type": "stream",
     "text": [
      "Libraries Loaded!\n"
     ]
    }
   ],
   "source": [
    "\n",
    "import requests\n",
    "import glob\n",
    "\n",
    "print(\"Libraries Loaded!\")\n",
    "\n",
    "ISSN = \"1441-3523\"\n",
    "HTML_DATA = \"html_found/\""
   ]
  },
  {
   "cell_type": "code",
   "execution_count": 15,
   "metadata": {},
   "outputs": [
    {
     "name": "stdout",
     "output_type": "stream",
     "text": [
      "Downloading j_pages\n",
      "50\n",
      "100\n",
      "150\n",
      "200\n",
      "250\n",
      "300\n",
      "350\n",
      "400\n",
      "450\n",
      "500\n",
      "550\n",
      "600\n"
     ]
    }
   ],
   "source": [
    "\n",
    "#Open DOI File\n",
    "\n",
    "counter = 0\n",
    "\n",
    "print(\"Downloading j_pages\")\n",
    "with open(ISSN+\"_DOI.txt\", \"r\") as doi_file:\n",
    "    for d in doi_file:\n",
    "        counter += 1\n",
    "        url_to_grab = \"https://www.tandfonline.com/doi/full/\"+d.strip(\"\\n\")\n",
    "        label = d.replace(\"/\",\"_\")\n",
    "        html = requests.get(url_to_grab).text\n",
    "        if not glob.glob(HTML_DATA+label+\".html\"): #Only download if we didn't already\n",
    "            try:\n",
    "                html_grabbed = open(HTML_DATA+label+\".html\",\"w\")\n",
    "                html_grabbed.write(html)\n",
    "            except:\n",
    "                print(\"Problem with: \",d)\n",
    "        if counter % 50 == 0:\n",
    "            print(counter)\n",
    "\n",
    "#Grab HTML of each DOI encountered"
   ]
  }
 ],
 "metadata": {
  "kernelspec": {
   "display_name": "Python 3",
   "language": "python",
   "name": "python3"
  },
  "language_info": {
   "codemirror_mode": {
    "name": "ipython",
    "version": 3
   },
   "file_extension": ".py",
   "mimetype": "text/x-python",
   "name": "python",
   "nbconvert_exporter": "python",
   "pygments_lexer": "ipython3",
   "version": "3.7.4"
  }
 },
 "nbformat": 4,
 "nbformat_minor": 2
}
