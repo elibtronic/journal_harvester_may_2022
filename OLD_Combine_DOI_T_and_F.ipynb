{
 "cells": [
  {
   "cell_type": "markdown",
   "metadata": {},
   "source": [
    "# Combine: DOI & TNF\n",
    "\n",
    "\n",
    "Sticks together final CSV for title combining info from DOIs and BSC scrapes\n",
    "\n",
    "https://habanero.readthedocs.io/en/latest/modules/crossref.html"
   ]
  },
  {
   "cell_type": "code",
   "execution_count": 110,
   "metadata": {},
   "outputs": [],
   "source": [
    "# Set these values for the title in quesion\n",
    "\n",
    "#ESMQ - 1618-4742\n",
    "TITLE = \"ESMQ\"\n",
    "ISSN = \"1618-4742\"\n",
    "\n",
    "DOI_FILE = ISSN+\"_DOI.txt\"\n",
    "BAD_DOI_FILE = ISSN+\"_BAD_DOI.txt\"\n",
    "FINAL_CSV = \"J_DATA_\"+TITLE+\"/\"+TITLE+\".csv\"\n",
    "HTML_FILES_LOCATION = \"J_DATA_\"+TITLE"
   ]
  },
  {
   "cell_type": "code",
   "execution_count": 1,
   "metadata": {},
   "outputs": [
    {
     "name": "stdout",
     "output_type": "stream",
     "text": [
      "Requirement already satisfied: habanero in /Users/tim/opt/anaconda3/lib/python3.7/site-packages (1.2.2)\n",
      "Requirement already satisfied: requests>=2.7.0 in /Users/tim/opt/anaconda3/lib/python3.7/site-packages (from habanero) (2.22.0)\n",
      "Requirement already satisfied: tqdm in /Users/tim/opt/anaconda3/lib/python3.7/site-packages (from habanero) (4.55.1)\n",
      "Requirement already satisfied: certifi>=2017.4.17 in /Users/tim/opt/anaconda3/lib/python3.7/site-packages (from requests>=2.7.0->habanero) (2019.9.11)\n",
      "Requirement already satisfied: urllib3!=1.25.0,!=1.25.1,<1.26,>=1.21.1 in /Users/tim/opt/anaconda3/lib/python3.7/site-packages (from requests>=2.7.0->habanero) (1.24.2)\n",
      "Requirement already satisfied: chardet<3.1.0,>=3.0.2 in /Users/tim/opt/anaconda3/lib/python3.7/site-packages (from requests>=2.7.0->habanero) (3.0.4)\n",
      "Requirement already satisfied: idna<2.9,>=2.5 in /Users/tim/opt/anaconda3/lib/python3.7/site-packages (from requests>=2.7.0->habanero) (2.8)\n",
      "Note: you may need to restart the kernel to use updated packages.\n"
     ]
    }
   ],
   "source": [
    "#This Library isn't in the core Python Libraries.\n",
    "# You need to run this cell and then restart the runtime to have it function.\n",
    "%pip install habanero"
   ]
  },
  {
   "cell_type": "code",
   "execution_count": 113,
   "metadata": {},
   "outputs": [
    {
     "name": "stdout",
     "output_type": "stream",
     "text": [
      "Done importing Libraries!\n"
     ]
    }
   ],
   "source": [
    "import pandas as pd\n",
    "from habanero import Crossref\n",
    "import glob\n",
    "print(\"Done importing Libraries!\")"
   ]
  },
  {
   "cell_type": "code",
   "execution_count": 111,
   "metadata": {},
   "outputs": [
    {
     "name": "stdout",
     "output_type": "stream",
     "text": [
      "Number of Problem DOIS:  0\n"
     ]
    }
   ],
   "source": [
    "#OPEN DOI & EXTRACT Columns\n",
    "\n",
    "cr = Crossref()\n",
    "article_list = []\n",
    "progress = 0\n",
    "problem_DOIs = []\n",
    "\n",
    "with open(DOI_FILE) as d_file:\n",
    "    \n",
    "    for doi in d_file.readlines():\n",
    "        #progress bar\n",
    "        progress +=1\n",
    "        \n",
    "        art = cr.works(doi)\n",
    "        a_title = art['message']['title'][0]\n",
    "        \n",
    "        try:\n",
    "            a_pages = art['message']['page']\n",
    "        except:\n",
    "            a_pages = \"NA\"\n",
    "        \n",
    "        try:\n",
    "            a_vol = art['message']['volume']\n",
    "        except:\n",
    "            a_vol = \"NA\"\n",
    "        try:\n",
    "            a_issue = art['message']['issue']\n",
    "        except:\n",
    "            a_issue = \"NA\"\n",
    "        \n",
    "        try:\n",
    "            a_date = str(art['message']['published-online']['date-parts'][0][0]) + \"-\" + \\\n",
    "                     str(art['message']['published-online']['date-parts'][0][1]) +\"-\"+ \\\n",
    "                     str(art['message']['published-online']['date-parts'][0][2])\n",
    "        except:\n",
    "            a_date = \"NA\"\n",
    "    \n",
    "        \n",
    "        try:    \n",
    "            a_kws = ', '.join(art['message']['subject'])\n",
    "\n",
    "        except:\n",
    "            a_kws = \"NA\"\n",
    "            \n",
    "    \n",
    "    \n",
    "        try:\n",
    "            for author in art['message']['author']:\n",
    "                a_dets = []\n",
    "                a_dets.append(doi)\n",
    "                a_dets.append(author['given'] + \" \" + author['family'])\n",
    "                a_dets.append(author['sequence'])\n",
    "                a_dets.append(author['affiliation'][0]['name'])\n",
    "                a_dets.append(a_title)\n",
    "                a_dets.append(a_date)\n",
    "                a_dets.append(a_vol)\n",
    "                a_dets.append(a_issue)\n",
    "                a_dets.append(a_pages)\n",
    "                a_dets.append(a_kws)\n",
    "                article_list.append(a_dets)\n",
    "        except:\n",
    "            problem_DOIs.append(doi)\n",
    "            \n",
    "        if progress % 50 == 0:\n",
    "            print(progress)\n",
    "\n",
    "\n",
    "j_data = pd.DataFrame(article_list)\n",
    "j_data.columns = [\n",
    "    \"DOI\",\n",
    "    \"AUTHOR_NAME\",\n",
    "    \"AUTHOR_ORDER\",\n",
    "    \"AFFILIATION\",\n",
    "    \"TITLE\",\n",
    "    \"DATE\",\n",
    "    \"VOLUME\",\n",
    "    \"ISSUE\",\n",
    "    \"PAGES\",\n",
    "    \"KEYWORDS\"\n",
    "]\n",
    "\n",
    "print(\"Number of Problem DOIS: \", len(problem_DOIs))\n",
    "\n",
    "with open(BAD_DOI_FILE,\"w\") as b_doi:\n",
    "    for d in problem_DOIs:\n",
    "        b_doi.write(d+\"\\n\")\n"
   ]
  },
  {
   "cell_type": "code",
   "execution_count": null,
   "metadata": {},
   "outputs": [],
   "source": [
    "#This'll be all Cross Ref info\n",
    "j_data"
   ]
  },
  {
   "cell_type": "markdown",
   "metadata": {},
   "source": [
    "## TODO\n",
    "\n",
    "Regrab HTML from BSC for this title. Apparently it didn't work!"
   ]
  },
  {
   "cell_type": "code",
   "execution_count": 116,
   "metadata": {},
   "outputs": [],
   "source": [
    "# Enrich metadata by opening up each file, grabbing abstract\n",
    "# and adding to DF\n",
    "#EG. 10.1016/j.smr.2009.05.002\n",
    "#BSC Link: https://search.ebscohost.com/login.aspx?direct=true&db=bth&AN=44425705&site=ehost-live&scope=site\n",
    "\n",
    "#for file in glob.glob(HTML_FILES_LOCATION+\"/44425705.html\"):\n",
    "#    print(file)"
   ]
  },
  {
   "cell_type": "code",
   "execution_count": 85,
   "metadata": {},
   "outputs": [],
   "source": [
    "# Write out final CSV file\n",
    "j_data.to_csv(FINAL_CSV,index=False)"
   ]
  }
 ],
 "metadata": {
  "kernelspec": {
   "display_name": "Python 3",
   "language": "python",
   "name": "python3"
  },
  "language_info": {
   "codemirror_mode": {
    "name": "ipython",
    "version": 3
   },
   "file_extension": ".py",
   "mimetype": "text/x-python",
   "name": "python",
   "nbconvert_exporter": "python",
   "pygments_lexer": "ipython3",
   "version": "3.7.4"
  }
 },
 "nbformat": 4,
 "nbformat_minor": 2
}
