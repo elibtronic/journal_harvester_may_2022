{
 "cells": [
  {
   "cell_type": "markdown",
   "metadata": {
    "colab_type": "text",
    "id": "view-in-github"
   },
   "source": [
    "<a href=\"https://colab.research.google.com/github/elibtronic/journal_harvester_may_2022/blob/main/DOI_Harvest_via_Cross_Ref.ipynb\" target=\"_parent\"><img src=\"https://colab.research.google.com/assets/colab-badge.svg\" alt=\"Open In Colab\"/></a>"
   ]
  },
  {
   "cell_type": "markdown",
   "metadata": {
    "id": "20MqXULnttRl"
   },
   "source": [
    "# DOI Harvester\n",
    "\n",
    "\n",
    "This code will query CrossRef for `ISSN` and systematically download all DOIs found there associated with that title. CrossRef doesn't have all of the journal article metadata. IE. some records are missing Abstracts. Complete records only seem to be on Publisher homepage.\n",
    "\n",
    "Output:\n",
    "- Text file of all DOIs\n",
    "\n",
    "Examples:\n",
    "\n",
    "|||\n",
    "|---|---|\n",
    "| _Journal of Sport Management_ | 0888-4773 |\n",
    "| _European Sport Management Quarterly_ | 1618-4742 |\n",
    "| _Sport Management_Review_ | 1441-3523 |\n",
    "\n",
    "\n",
    "\n",
    "TODO\n",
    "- Deploy this to Colab and add some download buttons to it."
   ]
  },
  {
   "cell_type": "code",
   "execution_count": 1,
   "metadata": {
    "id": "ymX9n9X8ttRo"
   },
   "outputs": [
    {
     "name": "stdout",
     "output_type": "stream",
     "text": [
      "Requirement already satisfied: habanero in /Users/tim/opt/anaconda3/lib/python3.7/site-packages (1.2.2)\n",
      "Requirement already satisfied: tqdm in /Users/tim/opt/anaconda3/lib/python3.7/site-packages (from habanero) (4.55.1)\n",
      "Requirement already satisfied: requests>=2.7.0 in /Users/tim/opt/anaconda3/lib/python3.7/site-packages (from habanero) (2.22.0)\n",
      "Requirement already satisfied: certifi>=2017.4.17 in /Users/tim/opt/anaconda3/lib/python3.7/site-packages (from requests>=2.7.0->habanero) (2019.9.11)\n",
      "Requirement already satisfied: chardet<3.1.0,>=3.0.2 in /Users/tim/opt/anaconda3/lib/python3.7/site-packages (from requests>=2.7.0->habanero) (3.0.4)\n",
      "Requirement already satisfied: urllib3!=1.25.0,!=1.25.1,<1.26,>=1.21.1 in /Users/tim/opt/anaconda3/lib/python3.7/site-packages (from requests>=2.7.0->habanero) (1.24.2)\n",
      "Requirement already satisfied: idna<2.9,>=2.5 in /Users/tim/opt/anaconda3/lib/python3.7/site-packages (from requests>=2.7.0->habanero) (2.8)\n",
      "Note: you may need to restart the kernel to use updated packages.\n"
     ]
    }
   ],
   "source": [
    "#This Library isn't in the core Python Libraries.\n",
    "# You need to run this cell and then restart the runtime to have it function.\n",
    "%pip install habanero"
   ]
  },
  {
   "cell_type": "code",
   "execution_count": 1,
   "metadata": {
    "colab": {
     "base_uri": "https://localhost:8080/"
    },
    "id": "Gbm_ppGottRp",
    "outputId": "5e241a4e-1c8c-496c-8be1-cae93af57ff1",
    "scrolled": true
   },
   "outputs": [
    {
     "name": "stdout",
     "output_type": "stream",
     "text": [
      "Libraries Import and read to roll\n",
      "Cross ref has this many DOIs for this title:  871\n",
      "Harvesting the DOIs\n"
     ]
    },
    {
     "name": "stderr",
     "output_type": "stream",
     "text": [
      "100%|██████████| 43/43 [00:33<00:00,  1.27it/s]"
     ]
    },
    {
     "name": "stdout",
     "output_type": "stream",
     "text": [
      "Total Items Harvested:  871\n",
      "Saving DOIs to text file...\n",
      "Done\n"
     ]
    },
    {
     "name": "stderr",
     "output_type": "stream",
     "text": [
      "\n"
     ]
    }
   ],
   "source": [
    "#Change this text variable to match the ISSN you want to harvest\n",
    "ISSN = \"1441-3523\"\n",
    "\n",
    "\n",
    "from pprint import pprint\n",
    "from habanero import Crossref\n",
    "import random\n",
    "import pandas as pd\n",
    "\n",
    "cr = Crossref()\n",
    "\n",
    "print(\"Libraries Import and read to roll\")\n",
    "\n",
    "\n",
    "#Attempt to find how many articles are on CR for this ISSN\n",
    "\n",
    "try:\n",
    "    j_doi_count = cr.journals(ISSN)\n",
    "    max_dois = int(j_doi_count['message']['counts']['total-dois'])\n",
    "    print(\"Cross ref has this many DOIs for this title: \",str(max_dois))\n",
    "except:\n",
    "    print(\"CrossRef API is having troubles... Couldn't find number of DOIs associated with title\")\n",
    "    \n",
    "\n",
    "print(\"Harvesting the DOIs\")\n",
    "#Harvest all DOIs for this journal\n",
    "try:\n",
    "    res = cr.journals(ids = ISSN, works = True, cursor = \"*\", cursor_max = max_dois, progress_bar = True)\n",
    "    sum([ len(z['message']['items']) for z in res ])\n",
    "    items = [ z['message']['items'] for z in res ]\n",
    "    items = [ item for sublist in items for item in sublist ]\n",
    "except:\n",
    "    print(\"CrossRef API is having troubles... Couldn't harvest DOIs of title\")\n",
    "    \n",
    "    \n",
    "    \n",
    "print(\"Total Items Harvested: \",len(items))\n",
    "print(\"Saving DOIs to text file...\")\n",
    "\n",
    "doi_file = open(ISSN+\"_DOI.txt\", \"w\")\n",
    "for a in items:\n",
    "    doi_file.write(a[\"DOI\"]+\"\\n\")\n",
    "\n",
    "print(\"Done\")"
   ]
  },
  {
   "cell_type": "code",
   "execution_count": 4,
   "metadata": {
    "colab": {
     "base_uri": "https://localhost:8080/",
     "height": 35
    },
    "id": "8xkVjmENuJF7",
    "outputId": "57c2a964-d776-42c1-ef34-e3755ec1b328"
   },
   "outputs": [
    {
     "data": {
      "application/javascript": [
       "\n",
       "    async function download(id, filename, size) {\n",
       "      if (!google.colab.kernel.accessAllowed) {\n",
       "        return;\n",
       "      }\n",
       "      const div = document.createElement('div');\n",
       "      const label = document.createElement('label');\n",
       "      label.textContent = `Downloading \"${filename}\": `;\n",
       "      div.appendChild(label);\n",
       "      const progress = document.createElement('progress');\n",
       "      progress.max = size;\n",
       "      div.appendChild(progress);\n",
       "      document.body.appendChild(div);\n",
       "\n",
       "      const buffers = [];\n",
       "      let downloaded = 0;\n",
       "\n",
       "      const channel = await google.colab.kernel.comms.open(id);\n",
       "      // Send a message to notify the kernel that we're ready.\n",
       "      channel.send({})\n",
       "\n",
       "      for await (const message of channel.messages) {\n",
       "        // Send a message to notify the kernel that we're ready.\n",
       "        channel.send({})\n",
       "        if (message.buffers) {\n",
       "          for (const buffer of message.buffers) {\n",
       "            buffers.push(buffer);\n",
       "            downloaded += buffer.byteLength;\n",
       "            progress.value = downloaded;\n",
       "          }\n",
       "        }\n",
       "      }\n",
       "      const blob = new Blob(buffers, {type: 'application/binary'});\n",
       "      const a = document.createElement('a');\n",
       "      a.href = window.URL.createObjectURL(blob);\n",
       "      a.download = filename;\n",
       "      div.appendChild(a);\n",
       "      a.click();\n",
       "      div.remove();\n",
       "    }\n",
       "  "
      ],
      "text/plain": [
       "<IPython.core.display.Javascript object>"
      ]
     },
     "metadata": {},
     "output_type": "display_data"
    },
    {
     "data": {
      "application/javascript": [
       "download(\"download_70c5e4c7-0512-4dd5-9fc0-e527b73c1458\", \"0888-4773_DOI.txt\", 24591)"
      ],
      "text/plain": [
       "<IPython.core.display.Javascript object>"
      ]
     },
     "metadata": {},
     "output_type": "display_data"
    },
    {
     "name": "stdout",
     "output_type": "stream",
     "text": [
      "Done!\n"
     ]
    }
   ],
   "source": [
    "#Only run this cell if run on Colab!\n",
    "\n",
    "from google.colab import files\n",
    "files.download(ISSN+\"_DOI.txt\")\n",
    "\n",
    "print(\"Done!\")"
   ]
  },
  {
   "cell_type": "code",
   "execution_count": 5,
   "metadata": {
    "id": "0P_st7eattRq",
    "outputId": "3457e716-ebfe-4a00-c829-0dcf682aee22"
   },
   "outputs": [
    {
     "name": "stdout",
     "output_type": "stream",
     "text": [
      "{'DOI': '10.1016/j.smr.2014.09.003',\n",
      " 'ISSN': ['1441-3523', '1839-2083'],\n",
      " 'URL': 'http://dx.doi.org/10.1016/j.smr.2014.09.003',\n",
      " 'alternative-id': ['10.1016/j.smr.2014.09.003'],\n",
      " 'assertion': [{'label': 'Peer Review Statement',\n",
      "                'name': 'peerreview_statement',\n",
      "                'order': 1,\n",
      "                'value': 'The publishing and review policy for this title is '\n",
      "                         'described in its Aims & Scope.'},\n",
      "               {'URL': 'http://www.tandfonline.com/action/journalInformation?show=aimsScope&journalCode=rsmr20',\n",
      "                'label': 'Aim & Scope',\n",
      "                'name': 'aims_and_scope_url',\n",
      "                'order': 2,\n",
      "                'value': 'http://www.tandfonline.com/action/journalInformation?show=aimsScope&journalCode=rsmr20'},\n",
      "               {'group': {'label': 'Publication History',\n",
      "                          'name': 'publication_history'},\n",
      "                'label': 'Received',\n",
      "                'name': 'received',\n",
      "                'order': 0,\n",
      "                'value': '2014-08-28'},\n",
      "               {'group': {'label': 'Publication History',\n",
      "                          'name': 'publication_history'},\n",
      "                'label': 'Published',\n",
      "                'name': 'published',\n",
      "                'order': 3,\n",
      "                'value': '2021-02-03'}],\n",
      " 'author': [{'affiliation': [{'name': 'Routledge, Oxon, United Kingdom (2011), '\n",
      "                                      '254 pp. ISBN: 978-0-415-49159-4'}],\n",
      "             'family': 'Emery',\n",
      "             'given': 'P.',\n",
      "             'sequence': 'first'},\n",
      "            {'affiliation': [{'name': 'School of Management, University of '\n",
      "                                      'South Australia, Adelaide, SA 5001, '\n",
      "                                      'Australia'}],\n",
      "             'family': 'O’Boyle',\n",
      "             'given': 'Ian',\n",
      "             'sequence': 'additional'}],\n",
      " 'container-title': ['Sport Management Review'],\n",
      " 'content-domain': {'crossmark-restriction': True,\n",
      "                    'domain': ['www.tandfonline.com']},\n",
      " 'created': {'date-parts': [[2014, 10, 11]],\n",
      "             'date-time': '2014-10-11T06:20:08Z',\n",
      "             'timestamp': 1413008408000},\n",
      " 'deposited': {'date-parts': [[2021, 7, 13]],\n",
      "               'date-time': '2021-07-13T10:09:12Z',\n",
      "               'timestamp': 1626170952000},\n",
      " 'indexed': {'date-parts': [[2022, 4, 5]],\n",
      "             'date-time': '2022-04-05T18:02:51Z',\n",
      "             'timestamp': 1649181771615},\n",
      " 'is-referenced-by-count': 0,\n",
      " 'issn-type': [{'type': 'print', 'value': '1441-3523'},\n",
      "               {'type': 'electronic', 'value': '1839-2083'}],\n",
      " 'issue': '3',\n",
      " 'issued': {'date-parts': [[2015, 7, 1]]},\n",
      " 'journal-issue': {'issue': '3',\n",
      "                   'published-print': {'date-parts': [[2015, 7, 1]]}},\n",
      " 'language': 'en',\n",
      " 'license': [{'URL': 'https://www.elsevier.com/tdm/userlicense/1.0/',\n",
      "              'content-version': 'tdm',\n",
      "              'delay-in-days': 0,\n",
      "              'start': {'date-parts': [[2015, 7, 1]],\n",
      "                        'date-time': '2015-07-01T00:00:00Z',\n",
      "                        'timestamp': 1435708800000}}],\n",
      " 'link': [{'URL': 'https://api.elsevier.com/content/article/PII:S1441352314000679?httpAccept=text/xml',\n",
      "           'content-type': 'text/xml',\n",
      "           'content-version': 'vor',\n",
      "           'intended-application': 'text-mining'},\n",
      "          {'URL': 'https://api.elsevier.com/content/article/PII:S1441352314000679?httpAccept=text/plain',\n",
      "           'content-type': 'text/plain',\n",
      "           'content-version': 'vor',\n",
      "           'intended-application': 'text-mining'},\n",
      "          {'URL': 'https://www.tandfonline.com/doi/pdf/10.1016/j.smr.2014.09.003',\n",
      "           'content-type': 'unspecified',\n",
      "           'content-version': 'vor',\n",
      "           'intended-application': 'similarity-checking'}],\n",
      " 'member': '301',\n",
      " 'page': '483-484',\n",
      " 'prefix': '10.1080',\n",
      " 'published': {'date-parts': [[2015, 7, 1]]},\n",
      " 'published-online': {'date-parts': [[2021, 2, 3]]},\n",
      " 'published-print': {'date-parts': [[2015, 7, 1]]},\n",
      " 'publisher': 'Informa UK Limited',\n",
      " 'reference': [{'DOI': '10.1080/16184742.2014.898677',\n",
      "                'doi-asserted-by': 'publisher',\n",
      "                'key': 'bib0015'},\n",
      "               {'author': 'Soucie D.',\n",
      "                'journal-title': 'Proceedings of second European Association '\n",
      "                                 'of Sport Management conference',\n",
      "                'key': 'bib0010',\n",
      "                'year': '1994'}],\n",
      " 'reference-count': 2,\n",
      " 'references-count': 2,\n",
      " 'resource': {'primary': {'URL': 'https://www.tandfonline.com/doi/full/10.1016/j.smr.2014.09.003'}},\n",
      " 'score': 0.0,\n",
      " 'short-container-title': ['Sport Management Review'],\n",
      " 'source': 'Crossref',\n",
      " 'subject': ['Marketing',\n",
      "             'Management Science and Operations Research',\n",
      "             'Organizational Behavior and Human Resource Management',\n",
      "             'Strategy and Management',\n",
      "             'Tourism, Leisure and Hospitality Management',\n",
      "             'Business and International Management'],\n",
      " 'title': ['The Sports Management Toolkit'],\n",
      " 'type': 'journal-article',\n",
      " 'update-policy': 'http://dx.doi.org/10.1080/tandf_crossmark_01',\n",
      " 'volume': '18'}\n"
     ]
    }
   ],
   "source": [
    "#Random Entry\n",
    "rando_art = random.choice(items)\n",
    "pprint(rando_art)"
   ]
  },
  {
   "cell_type": "code",
   "execution_count": null,
   "metadata": {
    "id": "7l15e7MrttRr"
   },
   "outputs": [],
   "source": [
    "#Smush it into dataframe, ill probably need to refine\n",
    "#jdf = pd.DataFrame.from_dict(items)\n",
    "#Random entry in data frame\n",
    "#jdf.sample(1)"
   ]
  }
 ],
 "metadata": {
  "colab": {
   "include_colab_link": true,
   "name": "DOI_Harvest_via_Cross_Ref.ipynb",
   "provenance": []
  },
  "kernelspec": {
   "display_name": "Python 3",
   "language": "python",
   "name": "python3"
  },
  "language_info": {
   "codemirror_mode": {
    "name": "ipython",
    "version": 3
   },
   "file_extension": ".py",
   "mimetype": "text/x-python",
   "name": "python",
   "nbconvert_exporter": "python",
   "pygments_lexer": "ipython3",
   "version": "3.7.4"
  }
 },
 "nbformat": 4,
 "nbformat_minor": 1
}
