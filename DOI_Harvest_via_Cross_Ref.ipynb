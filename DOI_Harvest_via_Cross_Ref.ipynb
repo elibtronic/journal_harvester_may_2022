{
  "cells": [
    {
      "cell_type": "markdown",
      "metadata": {
        "id": "view-in-github",
        "colab_type": "text"
      },
      "source": [
        "<a href=\"https://colab.research.google.com/github/elibtronic/journal_harvester_may_2022/blob/main/DOI_Harvest_via_Cross_Ref.ipynb\" target=\"_parent\"><img src=\"https://colab.research.google.com/assets/colab-badge.svg\" alt=\"Open In Colab\"/></a>"
      ]
    },
    {
      "cell_type": "markdown",
      "metadata": {
        "id": "20MqXULnttRl"
      },
      "source": [
        "# DOI Harvester\n",
        "\n",
        "\n",
        "This code will query CrossRef for `ISSN` and systematically download all DOIs found there associated with that title. CrossRef doesn't have all of the journal article metadata. IE. some records are missing Abstracts. Complete records only seem to be on Business Source Complete.\n",
        "\n",
        "Output:\n",
        "- Text file of all DOIs\n",
        "\n",
        "Examples:\n",
        "\n",
        "|||\n",
        "|---|---|\n",
        "| _Journal of Sport Management_ | 0888-4773 |\n",
        "| _European Sport Management Quarterly_ | 1618-4742 |\n",
        "| _Sport Management_Review_ | 1441-3523 |\n",
        "\n",
        "\n",
        "\n",
        "TODO\n",
        "- Deploy this to Colab and add some download buttons to it."
      ]
    },
    {
      "cell_type": "code",
      "execution_count": null,
      "metadata": {
        "id": "ymX9n9X8ttRo"
      },
      "outputs": [],
      "source": [
        "#This Library isn't in the core Python Libraries.\n",
        "# You need to run this cell and then restart the runtime to have it function.\n",
        "%pip install habanero"
      ]
    },
    {
      "cell_type": "code",
      "execution_count": 1,
      "metadata": {
        "scrolled": true,
        "id": "Gbm_ppGottRp",
        "outputId": "5e241a4e-1c8c-496c-8be1-cae93af57ff1",
        "colab": {
          "base_uri": "https://localhost:8080/"
        }
      },
      "outputs": [
        {
          "output_type": "stream",
          "name": "stdout",
          "text": [
            "Libraries Import and read to roll\n",
            "Cross ref has this many DOIs for this title:  1239\n",
            "Harvesting the DOIs\n"
          ]
        },
        {
          "output_type": "stream",
          "name": "stderr",
          "text": [
            "100%|██████████| 61/61 [01:08<00:00,  1.13s/it]"
          ]
        },
        {
          "output_type": "stream",
          "name": "stdout",
          "text": [
            "Total Items Harvested:  1239\n",
            "Saving DOIs to text file...\n",
            "Done\n"
          ]
        },
        {
          "output_type": "stream",
          "name": "stderr",
          "text": [
            "\n"
          ]
        }
      ],
      "source": [
        "#Change this text variable to match the ISSN you want to harvest\n",
        "ISSN = \"0888-4773\"\n",
        "\n",
        "\n",
        "from pprint import pprint\n",
        "from habanero import Crossref\n",
        "import random\n",
        "import pandas as pd\n",
        "\n",
        "cr = Crossref()\n",
        "\n",
        "print(\"Libraries Import and read to roll\")\n",
        "\n",
        "\n",
        "#Attempt to find how many articles are on CR for this ISSN\n",
        "\n",
        "try:\n",
        "    j_doi_count = cr.journals(ISSN)\n",
        "    max_dois = int(j_doi_count['message']['counts']['total-dois'])\n",
        "    print(\"Cross ref has this many DOIs for this title: \",str(max_dois))\n",
        "except:\n",
        "    print(\"CrossRef API is having troubles... Couldn't find number of DOIs associated with title\")\n",
        "    \n",
        "\n",
        "print(\"Harvesting the DOIs\")\n",
        "#Harvest all DOIs for this journal\n",
        "try:\n",
        "    res = cr.journals(ids = ISSN, works = True, cursor = \"*\", cursor_max = max_dois, progress_bar = True)\n",
        "    sum([ len(z['message']['items']) for z in res ])\n",
        "    items = [ z['message']['items'] for z in res ]\n",
        "    items = [ item for sublist in items for item in sublist ]\n",
        "except:\n",
        "    print(\"CrossRef API is having troubles... Couldn't harvest DOIs of title\")\n",
        "    \n",
        "    \n",
        "    \n",
        "print(\"Total Items Harvested: \",len(items))\n",
        "print(\"Saving DOIs to text file...\")\n",
        "\n",
        "doi_file = open(ISSN+\"_DOI.txt\", \"w\")\n",
        "for a in items:\n",
        "    doi_file.write(a[\"DOI\"]+\"\\n\")\n",
        "\n",
        "print(\"Done\")"
      ]
    },
    {
      "cell_type": "code",
      "source": [
        "#Only run this cell if run on Colab!\n",
        "\n",
        "from google.colab import files\n",
        "files.download(ISSN+\"_DOI.txt\")\n",
        "\n",
        "print(\"Done!\")"
      ],
      "metadata": {
        "id": "8xkVjmENuJF7",
        "outputId": "57c2a964-d776-42c1-ef34-e3755ec1b328",
        "colab": {
          "base_uri": "https://localhost:8080/",
          "height": 35
        }
      },
      "execution_count": 4,
      "outputs": [
        {
          "output_type": "display_data",
          "data": {
            "text/plain": [
              "<IPython.core.display.Javascript object>"
            ],
            "application/javascript": [
              "\n",
              "    async function download(id, filename, size) {\n",
              "      if (!google.colab.kernel.accessAllowed) {\n",
              "        return;\n",
              "      }\n",
              "      const div = document.createElement('div');\n",
              "      const label = document.createElement('label');\n",
              "      label.textContent = `Downloading \"${filename}\": `;\n",
              "      div.appendChild(label);\n",
              "      const progress = document.createElement('progress');\n",
              "      progress.max = size;\n",
              "      div.appendChild(progress);\n",
              "      document.body.appendChild(div);\n",
              "\n",
              "      const buffers = [];\n",
              "      let downloaded = 0;\n",
              "\n",
              "      const channel = await google.colab.kernel.comms.open(id);\n",
              "      // Send a message to notify the kernel that we're ready.\n",
              "      channel.send({})\n",
              "\n",
              "      for await (const message of channel.messages) {\n",
              "        // Send a message to notify the kernel that we're ready.\n",
              "        channel.send({})\n",
              "        if (message.buffers) {\n",
              "          for (const buffer of message.buffers) {\n",
              "            buffers.push(buffer);\n",
              "            downloaded += buffer.byteLength;\n",
              "            progress.value = downloaded;\n",
              "          }\n",
              "        }\n",
              "      }\n",
              "      const blob = new Blob(buffers, {type: 'application/binary'});\n",
              "      const a = document.createElement('a');\n",
              "      a.href = window.URL.createObjectURL(blob);\n",
              "      a.download = filename;\n",
              "      div.appendChild(a);\n",
              "      a.click();\n",
              "      div.remove();\n",
              "    }\n",
              "  "
            ]
          },
          "metadata": {}
        },
        {
          "output_type": "display_data",
          "data": {
            "text/plain": [
              "<IPython.core.display.Javascript object>"
            ],
            "application/javascript": [
              "download(\"download_70c5e4c7-0512-4dd5-9fc0-e527b73c1458\", \"0888-4773_DOI.txt\", 24591)"
            ]
          },
          "metadata": {}
        },
        {
          "output_type": "stream",
          "name": "stdout",
          "text": [
            "Done!\n"
          ]
        }
      ]
    },
    {
      "cell_type": "code",
      "execution_count": null,
      "metadata": {
        "id": "0P_st7eattRq",
        "outputId": "3457e716-ebfe-4a00-c829-0dcf682aee22"
      },
      "outputs": [
        {
          "name": "stdout",
          "output_type": "stream",
          "text": [
            "{'DOI': '10.1123/jsm.2018-0041',\n",
            " 'ISSN': ['0888-4773', '1543-270X'],\n",
            " 'URL': 'http://dx.doi.org/10.1123/jsm.2018-0041',\n",
            " 'alternative-id': ['10.1123/jsm.2018-0041'],\n",
            " 'author': [{'affiliation': [{'name': 'University of Windsor'}],\n",
            "             'family': 'Riehl',\n",
            "             'given': 'Spencer',\n",
            "             'sequence': 'first'},\n",
            "            {'affiliation': [{'name': 'University of Waterloo'}],\n",
            "             'family': 'Snelgrove',\n",
            "             'given': 'Ryan',\n",
            "             'sequence': 'additional'},\n",
            "            {'affiliation': [{'name': 'University of New Brunswick'}],\n",
            "             'family': 'Edwards',\n",
            "             'given': 'Jonathon',\n",
            "             'sequence': 'additional'}],\n",
            " 'container-title': ['Journal of Sport Management'],\n",
            " 'content-domain': {'crossmark-restriction': False, 'domain': []},\n",
            " 'created': {'date-parts': [[2018, 10, 4]],\n",
            "             'date-time': '2018-10-04T22:13:46Z',\n",
            "             'timestamp': 1538691226000},\n",
            " 'deposited': {'date-parts': [[2019, 8, 10]],\n",
            "               'date-time': '2019-08-10T13:05:03Z',\n",
            "               'timestamp': 1565442303000},\n",
            " 'indexed': {'date-parts': [[2022, 4, 19]],\n",
            "             'date-time': '2022-04-19T06:17:39Z',\n",
            "             'timestamp': 1650349059039},\n",
            " 'is-referenced-by-count': 12,\n",
            " 'issn-type': [{'type': 'print', 'value': '0888-4773'},\n",
            "               {'type': 'electronic', 'value': '1543-270X'}],\n",
            " 'issue': '2',\n",
            " 'issued': {'date-parts': [[2019, 3]]},\n",
            " 'journal-issue': {'issue': '2',\n",
            "                   'published-print': {'date-parts': [[2019, 3]]}},\n",
            " 'language': 'en',\n",
            " 'link': [{'URL': 'https://journals.humankinetics.com/doi/pdf/10.1123/jsm.2018-0041',\n",
            "           'content-type': 'unspecified',\n",
            "           'content-version': 'vor',\n",
            "           'intended-application': 'similarity-checking'}],\n",
            " 'member': '100',\n",
            " 'page': '93-105',\n",
            " 'prefix': '10.1123',\n",
            " 'published': {'date-parts': [[2019, 3]]},\n",
            " 'published-print': {'date-parts': [[2019, 3]]},\n",
            " 'publisher': 'Human Kinetics',\n",
            " 'reference-count': 134,\n",
            " 'references-count': 134,\n",
            " 'resource': {'primary': {'URL': 'https://journals.humankinetics.com/doi/10.1123/jsm.2018-0041'}},\n",
            " 'score': 0.0,\n",
            " 'short-container-title': ['Journal of Sport Management'],\n",
            " 'source': 'Crossref',\n",
            " 'subject': ['Organizational Behavior and Human Resource Management',\n",
            "             'Physical Therapy, Sports Therapy and Rehabilitation',\n",
            "             'Orthopedics and Sports Medicine',\n",
            "             'General Decision Sciences'],\n",
            " 'title': ['Mechanisms of Institutional Maintenance in Minor Hockey'],\n",
            " 'type': 'journal-article',\n",
            " 'volume': '33'}\n"
          ]
        }
      ],
      "source": [
        "#Random Entry\n",
        "#rando_art = random.choice(items)\n",
        "#pprint(rando_art)"
      ]
    },
    {
      "cell_type": "code",
      "execution_count": null,
      "metadata": {
        "id": "7l15e7MrttRr"
      },
      "outputs": [],
      "source": [
        "#Smush it into dataframe, ill probably need to refine\n",
        "#jdf = pd.DataFrame.from_dict(items)\n",
        "#Random entry in data frame\n",
        "#jdf.sample(1)"
      ]
    }
  ],
  "metadata": {
    "kernelspec": {
      "display_name": "Python 3",
      "language": "python",
      "name": "python3"
    },
    "language_info": {
      "codemirror_mode": {
        "name": "ipython",
        "version": 3
      },
      "file_extension": ".py",
      "mimetype": "text/x-python",
      "name": "python",
      "nbconvert_exporter": "python",
      "pygments_lexer": "ipython3",
      "version": "3.7.4"
    },
    "colab": {
      "name": "DOI_Harvest_via_Cross_Ref.ipynb",
      "provenance": [],
      "include_colab_link": true
    }
  },
  "nbformat": 4,
  "nbformat_minor": 0
}