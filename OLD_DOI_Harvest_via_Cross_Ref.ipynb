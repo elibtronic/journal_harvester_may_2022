{
 "cells": [
  {
   "cell_type": "markdown",
   "metadata": {
    "id": "20MqXULnttRl"
   },
   "source": [
    "# DOI Harvester\n",
    "\n",
    "\n",
    "This code will query CrossRef for `ISSN` and systematically download all DOIs found there associated with that title. CrossRef doesn't have all of the journal article metadata. IE. some records are missing Abstracts. Complete records only seem to be on Publisher homepage.\n",
    "\n",
    "Output:\n",
    "- Text file of all DOIs\n",
    "\n",
    "Examples:\n",
    "\n",
    "|||\n",
    "|---|---|\n",
    "| _Journal of Sport Management_ | 0888-4773 |\n",
    "| _European Sport Management Quarterly_ | 1618-4742 |\n",
    "| _Sport Management_Review_ | 1441-3523 |\n",
    "\n",
    "\n",
    "\n",
    "TODO\n",
    "- Deploy this to Colab and add some download buttons to it."
   ]
  },
  {
   "cell_type": "code",
   "execution_count": 1,
   "metadata": {
    "id": "ymX9n9X8ttRo"
   },
   "outputs": [
    {
     "name": "stdout",
     "output_type": "stream",
     "text": [
      "Requirement already satisfied: habanero in /Users/tim/opt/anaconda3/lib/python3.7/site-packages (1.2.2)\n",
      "Requirement already satisfied: requests>=2.7.0 in /Users/tim/opt/anaconda3/lib/python3.7/site-packages (from habanero) (2.22.0)\n",
      "Requirement already satisfied: tqdm in /Users/tim/opt/anaconda3/lib/python3.7/site-packages (from habanero) (4.55.1)\n",
      "Requirement already satisfied: urllib3!=1.25.0,!=1.25.1,<1.26,>=1.21.1 in /Users/tim/opt/anaconda3/lib/python3.7/site-packages (from requests>=2.7.0->habanero) (1.24.2)\n",
      "Requirement already satisfied: idna<2.9,>=2.5 in /Users/tim/opt/anaconda3/lib/python3.7/site-packages (from requests>=2.7.0->habanero) (2.8)\n",
      "Requirement already satisfied: certifi>=2017.4.17 in /Users/tim/opt/anaconda3/lib/python3.7/site-packages (from requests>=2.7.0->habanero) (2019.9.11)\n",
      "Requirement already satisfied: chardet<3.1.0,>=3.0.2 in /Users/tim/opt/anaconda3/lib/python3.7/site-packages (from requests>=2.7.0->habanero) (3.0.4)\n",
      "Note: you may need to restart the kernel to use updated packages.\n"
     ]
    }
   ],
   "source": [
    "#This Library isn't in the core Python Libraries.\n",
    "# You need to run this cell and then restart the runtime to have it function.\n",
    "%pip install habanero"
   ]
  },
  {
   "cell_type": "code",
   "execution_count": 3,
   "metadata": {
    "colab": {
     "base_uri": "https://localhost:8080/"
    },
    "id": "Gbm_ppGottRp",
    "outputId": "5e241a4e-1c8c-496c-8be1-cae93af57ff1",
    "scrolled": true
   },
   "outputs": [
    {
     "name": "stdout",
     "output_type": "stream",
     "text": [
      "Libraries Import and read to roll\n",
      "Cross ref has this many DOIs for this title:  753\n",
      "Harvesting the DOIs\n"
     ]
    },
    {
     "name": "stderr",
     "output_type": "stream",
     "text": [
      "100%|██████████| 37/37 [00:22<00:00,  1.61it/s]"
     ]
    },
    {
     "name": "stdout",
     "output_type": "stream",
     "text": [
      "Total Items Harvested:  754\n",
      "Saving DOIs to text file...\n",
      "Done\n"
     ]
    },
    {
     "name": "stderr",
     "output_type": "stream",
     "text": [
      "\n"
     ]
    }
   ],
   "source": [
    "#Change this text variable to match the ISSN you want to harvest\n",
    "#ESMQ\n",
    "ISSN = \"1618-4742\"\n",
    "\n",
    "\n",
    "from pprint import pprint\n",
    "from habanero import Crossref\n",
    "import random\n",
    "import pandas as pd\n",
    "\n",
    "cr = Crossref()\n",
    "\n",
    "print(\"Libraries Import and read to roll\")\n",
    "\n",
    "\n",
    "#Attempt to find how many articles are on CR for this ISSN\n",
    "\n",
    "try:\n",
    "    j_doi_count = cr.journals(ISSN)\n",
    "    max_dois = int(j_doi_count['message']['counts']['total-dois'])\n",
    "    print(\"Cross ref has this many DOIs for this title: \",str(max_dois))\n",
    "except:\n",
    "    print(\"CrossRef API is having troubles... Couldn't find number of DOIs associated with title\")\n",
    "    \n",
    "\n",
    "print(\"Harvesting the DOIs\")\n",
    "#Harvest all DOIs for this journal\n",
    "try:\n",
    "    res = cr.journals(ids = ISSN, works = True, cursor = \"*\", cursor_max = max_dois, progress_bar = True)\n",
    "    sum([ len(z['message']['items']) for z in res ])\n",
    "    items = [ z['message']['items'] for z in res ]\n",
    "    items = [ item for sublist in items for item in sublist ]\n",
    "except:\n",
    "    print(\"CrossRef API is having troubles... Couldn't harvest DOIs of title\")\n",
    "    \n",
    "    \n",
    "    \n",
    "print(\"Total Items Harvested: \",len(items))\n",
    "print(\"Saving DOIs to text file...\")\n",
    "\n",
    "doi_file = open(ISSN+\"_DOI.txt\", \"w\")\n",
    "for a in items:\n",
    "    doi_file.write(a[\"DOI\"]+\"\\n\")\n",
    "\n",
    "print(\"Done\")"
   ]
  },
  {
   "cell_type": "code",
   "execution_count": null,
   "metadata": {
    "colab": {
     "base_uri": "https://localhost:8080/",
     "height": 35
    },
    "id": "8xkVjmENuJF7",
    "outputId": "57c2a964-d776-42c1-ef34-e3755ec1b328"
   },
   "outputs": [],
   "source": [
    "#Only run this cell if run on Colab!\n",
    "\n",
    "from google.colab import files\n",
    "files.download(ISSN+\"_DOI.txt\")\n",
    "\n",
    "print(\"Done!\")"
   ]
  }
 ],
 "metadata": {
  "colab": {
   "include_colab_link": true,
   "name": "DOI_Harvest_via_Cross_Ref.ipynb",
   "provenance": []
  },
  "kernelspec": {
   "display_name": "Python 3",
   "language": "python",
   "name": "python3"
  },
  "language_info": {
   "codemirror_mode": {
    "name": "ipython",
    "version": 3
   },
   "file_extension": ".py",
   "mimetype": "text/x-python",
   "name": "python",
   "nbconvert_exporter": "python",
   "pygments_lexer": "ipython3",
   "version": "3.7.4"
  }
 },
 "nbformat": 4,
 "nbformat_minor": 1
}
